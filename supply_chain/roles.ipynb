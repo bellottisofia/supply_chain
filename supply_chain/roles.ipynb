{
 "cells": [
  {
   "cell_type": "code",
   "execution_count": null,
   "id": "db1cc203",
   "metadata": {},
   "outputs": [],
   "source": [
    "# roles.py\n",
    "class Roles:\n",
    "    def __init__(self):\n",
    "        self.roles = {\n",
    "            'supplier': set(),\n",
    "            'manufacturer': set(),\n",
    "            'logistics': set(),\n",
    "            'retailer': set(),\n",
    "            'consumer': set()\n",
    "        }\n",
    "\n",
    "    def assign_role(self, role, entity):\n",
    "        if role in self.roles:\n",
    "            self.roles[role].add(entity)\n",
    "        else:\n",
    "            raise ValueError(f\"Role {role} does not exist\")\n",
    "\n",
    "    def has_role(self, role, entity):\n",
    "        return entity in self.roles.get(role, set())"
   ]
  }
 ],
 "metadata": {
  "kernelspec": {
   "display_name": "Python 3 (ipykernel)",
   "language": "python",
   "name": "python3"
  },
  "language_info": {
   "codemirror_mode": {
    "name": "ipython",
    "version": 3
   },
   "file_extension": ".py",
   "mimetype": "text/x-python",
   "name": "python",
   "nbconvert_exporter": "python",
   "pygments_lexer": "ipython3",
   "version": "3.9.13"
  }
 },
 "nbformat": 4,
 "nbformat_minor": 5
}
