{
 "cells": [
  {
   "cell_type": "code",
   "execution_count": null,
   "id": "2f973ffb",
   "metadata": {},
   "outputs": [],
   "source": [
    "# product.py\n",
    "class Product:\n",
    "    def __init__(self, product_id, origin, creator):\n",
    "        self.product_id = product_id\n",
    "        self.origin = origin\n",
    "        self.current_holder = creator\n",
    "        self.status = \"Created\"\n",
    "        self.history = []\n",
    "\n",
    "    def update_status(self, status, updater):\n",
    "        self.status = status\n",
    "        self.current_holder = updater\n",
    "        self.history.append({\n",
    "            'status': status,\n",
    "            'updated_by': updater,\n",
    "            'date': utils.get_time()\n",
    "        })\n",
    "\n",
    "    def get_history(self):\n",
    "        return self.history"
   ]
  }
 ],
 "metadata": {
  "kernelspec": {
   "display_name": "Python 3 (ipykernel)",
   "language": "python",
   "name": "python3"
  },
  "language_info": {
   "codemirror_mode": {
    "name": "ipython",
    "version": 3
   },
   "file_extension": ".py",
   "mimetype": "text/x-python",
   "name": "python",
   "nbconvert_exporter": "python",
   "pygments_lexer": "ipython3",
   "version": "3.9.13"
  }
 },
 "nbformat": 4,
 "nbformat_minor": 5
}
